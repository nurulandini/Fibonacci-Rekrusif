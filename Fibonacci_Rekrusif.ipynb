{
 "cells": [
  {
   "cell_type": "code",
   "execution_count": 100,
   "metadata": {},
   "outputs": [
    {
     "name": "stdout",
     "output_type": "stream",
     "text": [
      "Menampilkan bil fibonacci menggunakan fungsi rekrusif\n",
      "Masukkan panjang bilangan :9\n",
      "0\n",
      "1\n",
      "1\n",
      "2\n",
      "3\n",
      "5\n",
      "8\n",
      "13\n",
      "21\n"
     ]
    }
   ],
   "source": [
    "class Fibonacci:\n",
    "    def fib(self, bil):\n",
    "        if (bil == 0):\n",
    "            return 0\n",
    "        elif (bil <= 2):\n",
    "            return 1\n",
    "        else: \n",
    "            return (fib(bil-1)+fib(bil-2))\n",
    "F = Fibonacci()\n",
    "print (\"Menampilkan bil fibonacci menggunakan fungsi rekrusif\")\n",
    "bil = int (input(\"Masukkan panjang bilangan :\"))\n",
    "for x in range (0,bil):\n",
    "    print (F.fib(x))"
   ]
  },
  {
   "cell_type": "code",
   "execution_count": null,
   "metadata": {},
   "outputs": [],
   "source": []
  }
 ],
 "metadata": {
  "kernelspec": {
   "display_name": "Python 3",
   "language": "python",
   "name": "python3"
  },
  "language_info": {
   "codemirror_mode": {
    "name": "ipython",
    "version": 3
   },
   "file_extension": ".py",
   "mimetype": "text/x-python",
   "name": "python",
   "nbconvert_exporter": "python",
   "pygments_lexer": "ipython3",
   "version": "3.7.2"
  }
 },
 "nbformat": 4,
 "nbformat_minor": 2
}
